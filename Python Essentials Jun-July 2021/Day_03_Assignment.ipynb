{
  "nbformat": 4,
  "nbformat_minor": 0,
  "metadata": {
    "colab": {
      "name": "Day_03_Assignment.ipynb",
      "provenance": [],
      "collapsed_sections": []
    },
    "kernelspec": {
      "name": "python3",
      "display_name": "Python 3"
    },
    "language_info": {
      "name": "python"
    }
  },
  "cells": [
    {
      "cell_type": "markdown",
      "metadata": {
        "id": "pqqcohoqu8nV"
      },
      "source": [
        "List"
      ]
    },
    {
      "cell_type": "code",
      "metadata": {
        "id": "Dq8bQjftvU-d"
      },
      "source": [
        "# append()\tAdds an element at the end of the list\n",
        "# clear()\tRemoves all the elements from the list\n",
        "# copy()\tReturns a copy of the list\n",
        "# count()\tReturns the number of elements with the specified value\n",
        "# extend()\tAdd the elements of a list (or any iterable), to the end of the current list\n",
        "# index()\tReturns the index of the first element with the specified value\n",
        "# insert()\tAdds an element at the specified position\n",
        "# pop()\tRemoves the element at the specified position\n",
        "# remove()\tRemoves the item with the specified value\n",
        "# reverse()\tReverses the order of the list\n",
        "# sort()\tSorts the list"
      ],
      "execution_count": 1,
      "outputs": []
    },
    {
      "cell_type": "code",
      "metadata": {
        "colab": {
          "base_uri": "https://localhost:8080/"
        },
        "id": "x1pFhIsZvbNa",
        "outputId": "42c67700-b281-426d-ba30-4f68814f22ca"
      },
      "source": [
        "lst = list()\n",
        "print(lst)"
      ],
      "execution_count": 2,
      "outputs": [
        {
          "output_type": "stream",
          "text": [
            "[]\n"
          ],
          "name": "stdout"
        }
      ]
    },
    {
      "cell_type": "code",
      "metadata": {
        "colab": {
          "base_uri": "https://localhost:8080/"
        },
        "id": "wywKnoGSvfYs",
        "outputId": "15b9b732-fa42-430e-d69e-4adbd24b1bd5"
      },
      "source": [
        "# append\n",
        "for i in range(1, 11):\n",
        "  lst.append(i)\n",
        "print(lst)"
      ],
      "execution_count": 3,
      "outputs": [
        {
          "output_type": "stream",
          "text": [
            "[1, 2, 3, 4, 5, 6, 7, 8, 9, 10]\n"
          ],
          "name": "stdout"
        }
      ]
    },
    {
      "cell_type": "code",
      "metadata": {
        "colab": {
          "base_uri": "https://localhost:8080/"
        },
        "id": "GaMWAgCevrny",
        "outputId": "b4bbee6d-cf17-438b-b5a8-66c4c339a795"
      },
      "source": [
        "# clear\n",
        "lst.clear()\n",
        "print(lst)"
      ],
      "execution_count": 4,
      "outputs": [
        {
          "output_type": "stream",
          "text": [
            "[]\n"
          ],
          "name": "stdout"
        }
      ]
    },
    {
      "cell_type": "code",
      "metadata": {
        "colab": {
          "base_uri": "https://localhost:8080/"
        },
        "id": "GZgScn-Tvw9A",
        "outputId": "3c2f8de9-8846-4df0-e65f-4ad96745464f"
      },
      "source": [
        "# copy\n",
        "lst = [12,23,34,45]\n",
        "lst2 = lst.copy()\n",
        "print(lst2)"
      ],
      "execution_count": 7,
      "outputs": [
        {
          "output_type": "stream",
          "text": [
            "[12, 23, 34, 45]\n"
          ],
          "name": "stdout"
        }
      ]
    },
    {
      "cell_type": "code",
      "metadata": {
        "colab": {
          "base_uri": "https://localhost:8080/"
        },
        "id": "5oN8btI2v26z",
        "outputId": "e2f69f8f-5958-4fee-e92f-df4e18c892b8"
      },
      "source": [
        "# count\n",
        "lst = [1,2,3,4,5,1,2,3,4]\n",
        "print(lst.count(1))"
      ],
      "execution_count": 9,
      "outputs": [
        {
          "output_type": "stream",
          "text": [
            "2\n"
          ],
          "name": "stdout"
        }
      ]
    },
    {
      "cell_type": "code",
      "metadata": {
        "colab": {
          "base_uri": "https://localhost:8080/"
        },
        "id": "UMxEYVT9wF_J",
        "outputId": "3ded17e0-c444-4244-894a-9717d0e5a180"
      },
      "source": [
        "# extend\n",
        "lst.extend([0,0,0,0,])\n",
        "print(lst)"
      ],
      "execution_count": 10,
      "outputs": [
        {
          "output_type": "stream",
          "text": [
            "[1, 2, 3, 4, 5, 1, 2, 3, 4, 0, 0, 0, 0]\n"
          ],
          "name": "stdout"
        }
      ]
    },
    {
      "cell_type": "code",
      "metadata": {
        "colab": {
          "base_uri": "https://localhost:8080/"
        },
        "id": "KFp8xSVZwXtH",
        "outputId": "71a02983-d56e-416e-d74a-542000581601"
      },
      "source": [
        "# index\n",
        "print(lst.index(4))"
      ],
      "execution_count": 12,
      "outputs": [
        {
          "output_type": "stream",
          "text": [
            "3\n"
          ],
          "name": "stdout"
        }
      ]
    },
    {
      "cell_type": "code",
      "metadata": {
        "colab": {
          "base_uri": "https://localhost:8080/"
        },
        "id": "Uw0hir80wewI",
        "outputId": "9a35448f-e878-4244-f2d9-ac3ba2a1fd42"
      },
      "source": [
        "# insert\n",
        "lst.insert(5, 7)\n",
        "print(lst)"
      ],
      "execution_count": 14,
      "outputs": [
        {
          "output_type": "stream",
          "text": [
            "[1, 2, 3, 4, 5, 7, 1, 2, 3, 4, 0, 0, 0, 0]\n"
          ],
          "name": "stdout"
        }
      ]
    },
    {
      "cell_type": "code",
      "metadata": {
        "colab": {
          "base_uri": "https://localhost:8080/"
        },
        "id": "vZqsnTuzwnpc",
        "outputId": "1d60e56d-f10c-4b1e-d9c5-a4f3ea77b5a3"
      },
      "source": [
        "# pop\n",
        "lst.pop(5)\n",
        "print(lst)"
      ],
      "execution_count": 15,
      "outputs": [
        {
          "output_type": "stream",
          "text": [
            "[1, 2, 3, 4, 5, 1, 2, 3, 4, 0, 0, 0, 0]\n"
          ],
          "name": "stdout"
        }
      ]
    },
    {
      "cell_type": "code",
      "metadata": {
        "colab": {
          "base_uri": "https://localhost:8080/"
        },
        "id": "FXlGzVbZwxKP",
        "outputId": "4985fc96-3c82-41e3-9257-1793ddd19052"
      },
      "source": [
        "# remove\n",
        "lst.remove(5)\n",
        "print(lst)"
      ],
      "execution_count": 17,
      "outputs": [
        {
          "output_type": "stream",
          "text": [
            "[1, 2, 3, 4, 1, 2, 3, 4, 0, 0, 0]\n"
          ],
          "name": "stdout"
        }
      ]
    },
    {
      "cell_type": "code",
      "metadata": {
        "colab": {
          "base_uri": "https://localhost:8080/"
        },
        "id": "j8gLvn-Xw4MH",
        "outputId": "77a96f76-92d2-4467-a546-5aa65ee62848"
      },
      "source": [
        "# reverse\n",
        "lst.reverse()\n",
        "print(lst)"
      ],
      "execution_count": 20,
      "outputs": [
        {
          "output_type": "stream",
          "text": [
            "[4, 4, 3, 3, 2, 2, 1, 1, 0, 0, 0]\n"
          ],
          "name": "stdout"
        }
      ]
    },
    {
      "cell_type": "code",
      "metadata": {
        "colab": {
          "base_uri": "https://localhost:8080/"
        },
        "id": "SZEYGmYaw9wf",
        "outputId": "df9d7f2e-3c46-437c-a78c-f64d4768ffcb"
      },
      "source": [
        "# sort\n",
        "lst.sort()\n",
        "print(lst)"
      ],
      "execution_count": 21,
      "outputs": [
        {
          "output_type": "stream",
          "text": [
            "[0, 0, 0, 1, 1, 2, 2, 3, 3, 4, 4]\n"
          ],
          "name": "stdout"
        }
      ]
    },
    {
      "cell_type": "markdown",
      "metadata": {
        "id": "EyeJTIE5xHsZ"
      },
      "source": [
        "Tuple"
      ]
    },
    {
      "cell_type": "code",
      "metadata": {
        "id": "TiVuQbpXxziz"
      },
      "source": [
        "# count()\tReturns the number of times a specified value occurs in a tuple\n",
        "# index()\tSearches the tuple for a specified value and returns the position of where it was found"
      ],
      "execution_count": 25,
      "outputs": []
    },
    {
      "cell_type": "code",
      "metadata": {
        "colab": {
          "base_uri": "https://localhost:8080/"
        },
        "id": "e_j-OQz6xKEY",
        "outputId": "b5e2b2bb-a1a1-4aaf-fa9d-d4a4eeedb51c"
      },
      "source": [
        "tup = (1 ,2,3,3,3,3,44,5,5,5,5,7)\n",
        "print(tup)"
      ],
      "execution_count": 24,
      "outputs": [
        {
          "output_type": "stream",
          "text": [
            "(1, 2, 3, 3, 3, 3, 44, 5, 5, 5, 5, 7)\n"
          ],
          "name": "stdout"
        }
      ]
    },
    {
      "cell_type": "code",
      "metadata": {
        "colab": {
          "base_uri": "https://localhost:8080/"
        },
        "id": "WiBGzVsKxgpf",
        "outputId": "8cc31a93-3b4d-40cc-f534-7626cd8b95b4"
      },
      "source": [
        "# count\n",
        "print(tup.count(7))"
      ],
      "execution_count": 26,
      "outputs": [
        {
          "output_type": "stream",
          "text": [
            "1\n"
          ],
          "name": "stdout"
        }
      ]
    },
    {
      "cell_type": "code",
      "metadata": {
        "colab": {
          "base_uri": "https://localhost:8080/"
        },
        "id": "5Q-OPEwkyCYd",
        "outputId": "57030772-bdc0-4855-9a79-7c0aa48d9733"
      },
      "source": [
        "# index\n",
        "print(tup.index(7))"
      ],
      "execution_count": 28,
      "outputs": [
        {
          "output_type": "stream",
          "text": [
            "11\n"
          ],
          "name": "stdout"
        }
      ]
    },
    {
      "cell_type": "markdown",
      "metadata": {
        "id": "R8S7piIjzFTM"
      },
      "source": [
        "Set"
      ]
    },
    {
      "cell_type": "code",
      "metadata": {
        "id": "_duZOjW30CqQ"
      },
      "source": [
        "# add()\tAdds an element to the set\n",
        "# difference()\tReturns a set containing the difference between two or more sets\n",
        "# discard()\tRemove the specified item\n",
        "# intersection()\tReturns a set, that is the intersection of two other sets\n",
        "# isdisjoint()\tReturns whether two sets have a intersection or not\n",
        "# issubset()\tReturns whether another set contains this set or not\n",
        "# issuperset()\tReturns whether this set contains another set or not\n",
        "# remove()\tRemoves the specified element\n",
        "# union()\tReturn a set containing the union of sets\n",
        "# update()\tUpdate the set with the union of this set and others"
      ],
      "execution_count": null,
      "outputs": []
    },
    {
      "cell_type": "code",
      "metadata": {
        "colab": {
          "base_uri": "https://localhost:8080/"
        },
        "id": "3KUhwYBc0qd2",
        "outputId": "6e8bc90e-9395-4122-f196-9f9b8e46439a"
      },
      "source": [
        "# add\n",
        "st = set()\n",
        "for i in range(0, 15):\n",
        "  st.add(i*2)\n",
        "st"
      ],
      "execution_count": 35,
      "outputs": [
        {
          "output_type": "execute_result",
          "data": {
            "text/plain": [
              "{0, 2, 4, 6, 8, 10, 12, 14, 16, 18, 20, 22, 24, 26, 28}"
            ]
          },
          "metadata": {
            "tags": []
          },
          "execution_count": 35
        }
      ]
    },
    {
      "cell_type": "code",
      "metadata": {
        "colab": {
          "base_uri": "https://localhost:8080/"
        },
        "id": "rW-yO4sh0ny1",
        "outputId": "18fe8aec-974b-49db-84fa-2d993a777b5d"
      },
      "source": [
        "# difference\n",
        "st1 = {2,4,6,8,10,12,14,16,18,20}\n",
        "st2 = {3,6,9,12,15,18,21,24,30}\n",
        "print(st2.difference(st1))"
      ],
      "execution_count": 38,
      "outputs": [
        {
          "output_type": "stream",
          "text": [
            "{3, 9, 15, 21, 24, 30}\n"
          ],
          "name": "stdout"
        }
      ]
    },
    {
      "cell_type": "code",
      "metadata": {
        "colab": {
          "base_uri": "https://localhost:8080/"
        },
        "id": "l6_mufjk1yBW",
        "outputId": "cba23c53-d1c4-4d1c-f71e-1f615ce8e153"
      },
      "source": [
        "# discard\n",
        "st2.discard(15)\n",
        "print(st2)"
      ],
      "execution_count": 41,
      "outputs": [
        {
          "output_type": "stream",
          "text": [
            "{3, 6, 9, 12, 18, 21, 24, 30}\n"
          ],
          "name": "stdout"
        }
      ]
    },
    {
      "cell_type": "code",
      "metadata": {
        "colab": {
          "base_uri": "https://localhost:8080/"
        },
        "id": "7hs7qyg32L2t",
        "outputId": "486d0c37-645b-4991-e8aa-142e91c84ed8"
      },
      "source": [
        "# intersection\n",
        "st1.intersection(st2)"
      ],
      "execution_count": 42,
      "outputs": [
        {
          "output_type": "execute_result",
          "data": {
            "text/plain": [
              "{6, 12, 18}"
            ]
          },
          "metadata": {
            "tags": []
          },
          "execution_count": 42
        }
      ]
    },
    {
      "cell_type": "code",
      "metadata": {
        "colab": {
          "base_uri": "https://localhost:8080/"
        },
        "id": "Tm1H9k6j2ckZ",
        "outputId": "02f0df69-9787-47d3-ad72-a04350c993bd"
      },
      "source": [
        "# isdisjoint\n",
        "st1.isdisjoint(st2)"
      ],
      "execution_count": 44,
      "outputs": [
        {
          "output_type": "execute_result",
          "data": {
            "text/plain": [
              "False"
            ]
          },
          "metadata": {
            "tags": []
          },
          "execution_count": 44
        }
      ]
    },
    {
      "cell_type": "code",
      "metadata": {
        "colab": {
          "base_uri": "https://localhost:8080/"
        },
        "id": "PncNMPIU2iR4",
        "outputId": "84845113-0aac-41fc-b5bb-a4f609a829fe"
      },
      "source": [
        "# issubset\n",
        "st1 = {1,2,3,4,5}\n",
        "st2 = {2,3,4}\n",
        "st2.issubset(st1)"
      ],
      "execution_count": 46,
      "outputs": [
        {
          "output_type": "execute_result",
          "data": {
            "text/plain": [
              "True"
            ]
          },
          "metadata": {
            "tags": []
          },
          "execution_count": 46
        }
      ]
    },
    {
      "cell_type": "code",
      "metadata": {
        "colab": {
          "base_uri": "https://localhost:8080/"
        },
        "id": "h2yT83La27qt",
        "outputId": "8ae2a515-fb5b-490d-90f5-1fff3effd7ca"
      },
      "source": [
        "# isupperset\n",
        "st1.issuperset(st2)"
      ],
      "execution_count": 48,
      "outputs": [
        {
          "output_type": "execute_result",
          "data": {
            "text/plain": [
              "True"
            ]
          },
          "metadata": {
            "tags": []
          },
          "execution_count": 48
        }
      ]
    },
    {
      "cell_type": "code",
      "metadata": {
        "colab": {
          "base_uri": "https://localhost:8080/"
        },
        "id": "mLG6xXzs3Yvr",
        "outputId": "cf7c0c43-9a87-4eb0-c41a-dd1d7461ffe1"
      },
      "source": [
        "# remove\n",
        "print(st)\n",
        "st.remove(4)\n",
        "print(st)"
      ],
      "execution_count": 49,
      "outputs": [
        {
          "output_type": "stream",
          "text": [
            "{0, 2, 4, 6, 8, 10, 12, 14, 16, 18, 20, 22, 24, 26, 28}\n",
            "{0, 2, 6, 8, 10, 12, 14, 16, 18, 20, 22, 24, 26, 28}\n"
          ],
          "name": "stdout"
        }
      ]
    },
    {
      "cell_type": "code",
      "metadata": {
        "colab": {
          "base_uri": "https://localhost:8080/"
        },
        "id": "MIho3hbz3aPl",
        "outputId": "828d6e60-9ccc-44f2-d704-752b3a9f4eba"
      },
      "source": [
        "# union\n",
        "print(st.union(st1, st2))"
      ],
      "execution_count": 54,
      "outputs": [
        {
          "output_type": "stream",
          "text": [
            "{0, 1, 2, 3, 4, 5, 6, 8, 10, 12, 14, 16, 18, 20, 22, 24, 26, 28}\n"
          ],
          "name": "stdout"
        }
      ]
    },
    {
      "cell_type": "code",
      "metadata": {
        "colab": {
          "base_uri": "https://localhost:8080/"
        },
        "id": "t3tf6ii13deQ",
        "outputId": "a85b5ae1-592b-4c25-fd7f-92c86e4b188a"
      },
      "source": [
        "# update\n",
        "st.update({-1,-2})\n",
        "st"
      ],
      "execution_count": 55,
      "outputs": [
        {
          "output_type": "execute_result",
          "data": {
            "text/plain": [
              "{-2, -1, 0, 2, 6, 8, 10, 12, 14, 16, 18, 20, 22, 24, 26, 28}"
            ]
          },
          "metadata": {
            "tags": []
          },
          "execution_count": 55
        }
      ]
    },
    {
      "cell_type": "markdown",
      "metadata": {
        "id": "IOUCEOXh4I9F"
      },
      "source": [
        "Dictionary"
      ]
    },
    {
      "cell_type": "code",
      "metadata": {
        "id": "ZcqOcnJK4LwM"
      },
      "source": [
        "# clear()\tRemoves all the elements from the dictionary\n",
        "# get()\tReturns the value of the specified key\n",
        "# items()\tReturns a list containing a tuple for each key value pair\n",
        "# keys()\tReturns a list containing the dictionary's keys\n",
        "# pop()\tRemoves the element with the specified key\n",
        "# popitem()\tRemoves the last inserted key-value pair\n",
        "# setdefault()\tReturns the value of the specified key. If the key does not exist: insert the key, with the specified value\n",
        "# update()\tUpdates the dictionary with the specified key-value pairs\n",
        "# values()\tReturns a list of all the values in the dictionary"
      ],
      "execution_count": 58,
      "outputs": []
    },
    {
      "cell_type": "code",
      "metadata": {
        "colab": {
          "base_uri": "https://localhost:8080/"
        },
        "id": "_jWqNuey4Mu1",
        "outputId": "954e39e3-bdec-437f-a8d7-dcb39e0943af"
      },
      "source": [
        "dct = dict()\n",
        "dct['name'] = \"Name\"\n",
        "dct"
      ],
      "execution_count": 57,
      "outputs": [
        {
          "output_type": "execute_result",
          "data": {
            "text/plain": [
              "{'name': 'Name'}"
            ]
          },
          "metadata": {
            "tags": []
          },
          "execution_count": 57
        }
      ]
    },
    {
      "cell_type": "code",
      "metadata": {
        "colab": {
          "base_uri": "https://localhost:8080/"
        },
        "id": "1yB_eXUp4UMd",
        "outputId": "b0e23cad-b022-4c57-8210-ba18a1df6789"
      },
      "source": [
        "# clear\n",
        "dct.clear()\n",
        "dct"
      ],
      "execution_count": 60,
      "outputs": [
        {
          "output_type": "execute_result",
          "data": {
            "text/plain": [
              "{}"
            ]
          },
          "metadata": {
            "tags": []
          },
          "execution_count": 60
        }
      ]
    },
    {
      "cell_type": "code",
      "metadata": {
        "colab": {
          "base_uri": "https://localhost:8080/"
        },
        "id": "MJzpUd6H4bt1",
        "outputId": "1a74d7ab-3c40-44aa-a9ab-762155098343"
      },
      "source": [
        "# get\n",
        "dct['number'] = 100\n",
        "dct.get('number')"
      ],
      "execution_count": 81,
      "outputs": [
        {
          "output_type": "execute_result",
          "data": {
            "text/plain": [
              "100"
            ]
          },
          "metadata": {
            "tags": []
          },
          "execution_count": 81
        }
      ]
    },
    {
      "cell_type": "code",
      "metadata": {
        "colab": {
          "base_uri": "https://localhost:8080/"
        },
        "id": "O44fkidD4rdf",
        "outputId": "107da456-91b0-4ed4-9a2e-96d406aa98ec"
      },
      "source": [
        "# items\n",
        "for i in range(10):\n",
        "  dct[i] = i**2\n",
        "print(dct)\n",
        "dct.items()"
      ],
      "execution_count": 82,
      "outputs": [
        {
          "output_type": "stream",
          "text": [
            "{0: 0, 1: 1, 2: 4, 3: 9, 4: 16, 'number': 100, 5: 25, 6: 36, 7: 49, 8: 64, 9: 81}\n"
          ],
          "name": "stdout"
        },
        {
          "output_type": "execute_result",
          "data": {
            "text/plain": [
              "dict_items([(0, 0), (1, 1), (2, 4), (3, 9), (4, 16), ('number', 100), (5, 25), (6, 36), (7, 49), (8, 64), (9, 81)])"
            ]
          },
          "metadata": {
            "tags": []
          },
          "execution_count": 82
        }
      ]
    },
    {
      "cell_type": "code",
      "metadata": {
        "colab": {
          "base_uri": "https://localhost:8080/"
        },
        "id": "lCaV84XA4wuQ",
        "outputId": "3108e6e3-c7e9-4fcb-d246-284b131ed688"
      },
      "source": [
        "# keys\n",
        "dct.keys()"
      ],
      "execution_count": 83,
      "outputs": [
        {
          "output_type": "execute_result",
          "data": {
            "text/plain": [
              "dict_keys([0, 1, 2, 3, 4, 'number', 5, 6, 7, 8, 9])"
            ]
          },
          "metadata": {
            "tags": []
          },
          "execution_count": 83
        }
      ]
    },
    {
      "cell_type": "code",
      "metadata": {
        "colab": {
          "base_uri": "https://localhost:8080/"
        },
        "id": "zRHaFkZ_4_Zt",
        "outputId": "d0a5e9f8-3188-4f93-9493-a2083c1fc8dd"
      },
      "source": [
        "# pop\n",
        "print(dct.pop('number'))\n",
        "dct"
      ],
      "execution_count": 84,
      "outputs": [
        {
          "output_type": "stream",
          "text": [
            "100\n"
          ],
          "name": "stdout"
        },
        {
          "output_type": "execute_result",
          "data": {
            "text/plain": [
              "{0: 0, 1: 1, 2: 4, 3: 9, 4: 16, 5: 25, 6: 36, 7: 49, 8: 64, 9: 81}"
            ]
          },
          "metadata": {
            "tags": []
          },
          "execution_count": 84
        }
      ]
    },
    {
      "cell_type": "code",
      "metadata": {
        "colab": {
          "base_uri": "https://localhost:8080/"
        },
        "id": "oOuri5yE5Bx_",
        "outputId": "8c4f23ba-f076-4543-82db-881804d09d62"
      },
      "source": [
        "# popitem\n",
        "dct.popitem()\n",
        "dct"
      ],
      "execution_count": 85,
      "outputs": [
        {
          "output_type": "execute_result",
          "data": {
            "text/plain": [
              "{0: 0, 1: 1, 2: 4, 3: 9, 4: 16, 5: 25, 6: 36, 7: 49, 8: 64}"
            ]
          },
          "metadata": {
            "tags": []
          },
          "execution_count": 85
        }
      ]
    },
    {
      "cell_type": "code",
      "metadata": {
        "colab": {
          "base_uri": "https://localhost:8080/"
        },
        "id": "sVmatbga5hzZ",
        "outputId": "87bff274-6c86-4936-dbf5-b46f7c2bacc6"
      },
      "source": [
        "# setdefault\n",
        "dct.setdefault('test', 'done')\n",
        "dct"
      ],
      "execution_count": 86,
      "outputs": [
        {
          "output_type": "execute_result",
          "data": {
            "text/plain": [
              "{0: 0, 1: 1, 2: 4, 3: 9, 4: 16, 5: 25, 6: 36, 7: 49, 8: 64, 'test': 'done'}"
            ]
          },
          "metadata": {
            "tags": []
          },
          "execution_count": 86
        }
      ]
    },
    {
      "cell_type": "code",
      "metadata": {
        "colab": {
          "base_uri": "https://localhost:8080/"
        },
        "id": "k4va_t1T50QU",
        "outputId": "2e2432e6-f504-4efb-de8c-bff24f2244b0"
      },
      "source": [
        "# update\n",
        "dct.update({'tested': 'tested1'})\n",
        "dct"
      ],
      "execution_count": 89,
      "outputs": [
        {
          "output_type": "execute_result",
          "data": {
            "text/plain": [
              "{0: 0,\n",
              " 1: 1,\n",
              " 2: 4,\n",
              " 3: 9,\n",
              " 4: 16,\n",
              " 5: 25,\n",
              " 6: 36,\n",
              " 7: 49,\n",
              " 8: 64,\n",
              " 'test': 'done',\n",
              " 'tested': 'tested1'}"
            ]
          },
          "metadata": {
            "tags": []
          },
          "execution_count": 89
        }
      ]
    },
    {
      "cell_type": "code",
      "metadata": {
        "colab": {
          "base_uri": "https://localhost:8080/"
        },
        "id": "EsSd2NY254R1",
        "outputId": "0a5767a7-52f5-4fd1-8305-e1a8b0ad7b2e"
      },
      "source": [
        "# values\n",
        "dct.values()"
      ],
      "execution_count": 90,
      "outputs": [
        {
          "output_type": "execute_result",
          "data": {
            "text/plain": [
              "dict_values([0, 1, 4, 9, 16, 25, 36, 49, 64, 'done', 'tested1'])"
            ]
          },
          "metadata": {
            "tags": []
          },
          "execution_count": 90
        }
      ]
    }
  ]
}