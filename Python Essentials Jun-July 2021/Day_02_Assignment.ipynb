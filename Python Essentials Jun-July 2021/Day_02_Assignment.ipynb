{
 "cells": [
  {
   "cell_type": "markdown",
   "metadata": {},
   "source": [
    "## Lottery"
   ]
  },
  {
   "cell_type": "code",
   "execution_count": 1,
   "metadata": {},
   "outputs": [],
   "source": [
    "# importing random module\n",
    "import random"
   ]
  },
  {
   "cell_type": "code",
   "execution_count": 2,
   "metadata": {},
   "outputs": [
    {
     "name": "stdout",
     "output_type": "stream",
     "text": [
      "Maximum Participants: 5\n"
     ]
    }
   ],
   "source": [
    "# reading maximum number of participants\n",
    "max_number = int(input(\"Maximum Participants: \"))"
   ]
  },
  {
   "cell_type": "code",
   "execution_count": 3,
   "metadata": {},
   "outputs": [
    {
     "name": "stdout",
     "output_type": "stream",
     "text": [
      "Enter Participant Name: Tony\n",
      "Enter Participant Name: Steve\n",
      "Enter Participant Name: Thor\n",
      "Enter Participant Name: Strange\n",
      "Enter Participant Name: Wanda\n",
      "['Tony', 'Steve', 'Thor', 'Strange', 'Wanda']\n"
     ]
    }
   ],
   "source": [
    "# creating participant list\n",
    "participants = list()\n",
    "\n",
    "# reading participants name in for loop\n",
    "for i in range(max_number):\n",
    "    participants.append(input(\"Enter Participant Name: \"))\n",
    "\n",
    "print(participants)"
   ]
  },
  {
   "cell_type": "code",
   "execution_count": 4,
   "metadata": {},
   "outputs": [
    {
     "name": "stdout",
     "output_type": "stream",
     "text": [
      "Strange\n"
     ]
    }
   ],
   "source": [
    "print(random.choice(participants))"
   ]
  }
 ],
 "metadata": {
  "kernelspec": {
   "display_name": "Python 3",
   "language": "python",
   "name": "python3"
  },
  "language_info": {
   "codemirror_mode": {
    "name": "ipython",
    "version": 3
   },
   "file_extension": ".py",
   "mimetype": "text/x-python",
   "name": "python",
   "nbconvert_exporter": "python",
   "pygments_lexer": "ipython3",
   "version": "3.6.13"
  }
 },
 "nbformat": 4,
 "nbformat_minor": 2
}
