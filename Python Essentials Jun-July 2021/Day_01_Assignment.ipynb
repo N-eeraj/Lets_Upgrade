{
 "cells": [
  {
   "cell_type": "markdown",
   "metadata": {},
   "source": [
    "## Subtraction"
   ]
  },
  {
   "cell_type": "code",
   "execution_count": 1,
   "metadata": {},
   "outputs": [
    {
     "name": "stdout",
     "output_type": "stream",
     "text": [
      "Enter First Number: 2.5\n",
      "Enter Second Number: 1.25\n",
      "Difference = 1.25\n"
     ]
    }
   ],
   "source": [
    "print(\"Difference =\", float(input(\"Enter First Number: \")) - float(input(\"Enter Second Number: \")))"
   ]
  },
  {
   "cell_type": "markdown",
   "metadata": {},
   "source": [
    "## Multiplication"
   ]
  },
  {
   "cell_type": "code",
   "execution_count": 2,
   "metadata": {},
   "outputs": [
    {
     "name": "stdout",
     "output_type": "stream",
     "text": [
      "Enter First Number: 1.25\n",
      "Enter Second Number: 4\n",
      "Product =  5.0\n"
     ]
    }
   ],
   "source": [
    "print(\"Product = \", float(input(\"Enter First Number: \")) * float(input(\"Enter Second Number: \")))"
   ]
  },
  {
   "cell_type": "markdown",
   "metadata": {},
   "source": [
    "## Division"
   ]
  },
  {
   "cell_type": "code",
   "execution_count": 3,
   "metadata": {
    "scrolled": true
   },
   "outputs": [
    {
     "name": "stdout",
     "output_type": "stream",
     "text": [
      "Enter First Number: 5.5\n",
      "Enter Second Number: 2.5\n",
      "Result =  2.2\n"
     ]
    }
   ],
   "source": [
    "print(\"Result = \", float(input(\"Enter First Number: \")) / float(input(\"Enter Second Number: \")))"
   ]
  }
 ],
 "metadata": {
  "kernelspec": {
   "display_name": "Python 3",
   "language": "python",
   "name": "python3"
  },
  "language_info": {
   "codemirror_mode": {
    "name": "ipython",
    "version": 3
   },
   "file_extension": ".py",
   "mimetype": "text/x-python",
   "name": "python",
   "nbconvert_exporter": "python",
   "pygments_lexer": "ipython3",
   "version": "3.6.13"
  }
 },
 "nbformat": 4,
 "nbformat_minor": 2
}
